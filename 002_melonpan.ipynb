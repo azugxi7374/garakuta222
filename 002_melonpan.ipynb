{
 "cells": [
  {
   "cell_type": "code",
   "execution_count": 22,
   "metadata": {},
   "outputs": [],
   "source": [
    "# D次元変数の原点からの距離の分布\n",
    "import random\n",
    "import numpy as np\n",
    "import matplotlib.pyplot as plt"
   ]
  },
  {
   "cell_type": "code",
   "execution_count": 23,
   "metadata": {},
   "outputs": [],
   "source": [
    "def calc(N, D):\n",
    "    d = []\n",
    "    for i in range(N):\n",
    "        a = np.array([random.random() for x in range(0,D)])\n",
    "        dist = np.linalg.norm(a)\n",
    "        d.append(dist)\n",
    "    maxd=np.linalg.norm(np.array([1 for x in range(D)]))\n",
    "    return d, maxd"
   ]
  },
  {
   "cell_type": "code",
   "execution_count": 24,
   "metadata": {},
   "outputs": [
    {
     "name": "stdout",
     "output_type": "stream",
     "text": [
      "D=2, maxd=1.4142135623730951, avg=0.76534574617672, std=0.2734428206797775, rate=0.5411811670738369\n",
      "D=3, maxd=1.7320508075688772, avg=1.008589129450248, std=0.2400375130326553, rate=0.582309205389831\n",
      "D=10, maxd=3.1622776601683795, avg=1.8125305110816101, std=0.2506596237185428, rate=0.573172474356695\n",
      "D=100, maxd=10.0, avg=5.76057864971606, std=0.2606258902418122, rate=0.576057864971606\n",
      "D=1000, maxd=31.622776601683793, avg=18.234453581946358, std=0.23150671053132751, rate=0.5766240520756626\n"
     ]
    }
   ],
   "source": [
    "N = 100\n",
    "for D in [2,3,10,100,1000]:\n",
    "    d, maxd = calc(N, D)\n",
    "    avg = np.average(d)\n",
    "    std = np.std(d)\n",
    "\n",
    "    print(f\"D={D}, maxd={maxd}, avg={avg}, std={std}, rate={avg/maxd}\")"
   ]
  },
  {
   "cell_type": "code",
   "execution_count": 25,
   "metadata": {},
   "outputs": [
    {
     "data": {
      "text/plain": [
       "(array([ 12.,  52.,  82.,  96., 137., 171., 225., 118.,  84.,  23.]),\n",
       " array([0.        , 0.14142136, 0.28284271, 0.42426407, 0.56568542,\n",
       "        0.70710678, 0.84852814, 0.98994949, 1.13137085, 1.27279221,\n",
       "        1.41421356]),\n",
       " <BarContainer object of 10 artists>)"
      ]
     },
     "execution_count": 25,
     "metadata": {},
     "output_type": "execute_result"
    },
    {
     "data": {
      "image/png": "[encoded data removed]",
      "text/plain": [
       "<Figure size 432x288 with 1 Axes>"
      ]
     },
     "metadata": {
      "needs_background": "light"
     },
     "output_type": "display_data"
    }
   ],
   "source": [
    "d, maxd = calc(1000, 2)\n",
    "plt.hist(d,range=(0, maxd))"
   ]
  },
  {
   "cell_type": "code",
   "execution_count": 26,
   "metadata": {},
   "outputs": [
    {
     "data": {
      "text/plain": [
       "(array([  0.,   3.,  17.,  63., 199., 301., 285., 114.,  18.,   0.]),\n",
       " array([0.        , 0.2236068 , 0.4472136 , 0.67082039, 0.89442719,\n",
       "        1.11803399, 1.34164079, 1.56524758, 1.78885438, 2.01246118,\n",
       "        2.23606798]),\n",
       " <BarContainer object of 10 artists>)"
      ]
     },
     "execution_count": 26,
     "metadata": {},
     "output_type": "execute_result"
    },
    {
     "data": {
      "image/png": "[encoded data removed]",
      "text/plain": [
       "<Figure size 432x288 with 1 Axes>"
      ]
     },
     "metadata": {
      "needs_background": "light"
     },
     "output_type": "display_data"
    }
   ],
   "source": [
    "d, maxd = calc(1000, 5)\n",
    "plt.hist(d,range=(0, maxd))"
   ]
  },
  {
   "cell_type": "code",
   "execution_count": 27,
   "metadata": {},
   "outputs": [
    {
     "data": {
      "text/plain": [
       "(array([  0.,   0.,   0.,   0.,   1., 820., 179.,   0.,   0.,   0.]),\n",
       " array([ 0.,  1.,  2.,  3.,  4.,  5.,  6.,  7.,  8.,  9., 10.]),\n",
       " <BarContainer object of 10 artists>)"
      ]
     },
     "execution_count": 27,
     "metadata": {},
     "output_type": "execute_result"
    },
    {
     "data": {
      "image/png": "[encoded data removed]",
      "text/plain": [
       "<Figure size 432x288 with 1 Axes>"
      ]
     },
     "metadata": {
      "needs_background": "light"
     },
     "output_type": "display_data"
    }
   ],
   "source": [
    "d, maxd = calc(1000, 100)\n",
    "plt.hist(d,range=(0, maxd))"
   ]
  }
 ],
 "metadata": {
  "interpreter": {
   "hash": "916dbcbb3f70747c44a77c7bcd40155683ae19c65e1c03b4aa3499c5328201f1"
  },
  "kernelspec": {
   "display_name": "Python 3.8.10 64-bit",
   "language": "python",
   "name": "python3"
  },
  "language_info": {
   "codemirror_mode": {
    "name": "ipython",
    "version": 3
   },
   "file_extension": ".py",
   "mimetype": "text/x-python",
   "name": "python",
   "nbconvert_exporter": "python",
   "pygments_lexer": "ipython3",
   "version": "3.8.10"
  },
  "orig_nbformat": 4
 },
 "nbformat": 4,
 "nbformat_minor": 2
}
